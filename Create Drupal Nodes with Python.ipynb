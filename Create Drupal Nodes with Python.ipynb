{
 "cells": [
  {
   "cell_type": "code",
   "execution_count": 2,
   "metadata": {},
   "outputs": [],
   "source": [
    "# NOTE IF THERE ARE ERRORS - TRYING DRUSH CR\n",
    "import requests\n",
    "\n",
    "base_url = 'http://localhost'\n",
    "\n",
    "#Get CSRF token\n",
    "token = str(requests.get(base_url + '/session/token').text)\n",
    "drupal_endpoint = base_url + '/node?_format=hal_json'\n",
    "\n",
    "#Set all required headers\n",
    "drupal_headers = {'Content-Type':'application/hal+jso|n',\n",
    "    'X-CSRF-Token':token\n",
    "}\n",
    "\n",
    "#Include all fields required by the content type, using basic examples but from this you can add any fields including custom ones\n",
    "drupal_payload =  '''{\n",
    "    \"_links\": {\n",
    "      \"type\": {\n",
    "        \"href\": \"'''+base_url+'''/rest/type/node/page\"\n",
    "      }\n",
    "    },\n",
    "    \"title\":[{\"value\":\"Sample Drupal Node Page\"}],\n",
    "    \"body\":[{\"value\":\"Body with some sample content\"}]\n",
    "    }'''\n",
    "\n",
    "\n",
    "\n",
    "\n"
   ]
  },
  {
   "cell_type": "code",
   "execution_count": 27,
   "metadata": {},
   "outputs": [
    {
     "name": "stdout",
     "output_type": "stream",
     "text": [
      "Success\n"
     ]
    }
   ],
   "source": [
    "#Post the new node (a Contact) to the endpoint.\n",
    "r = requests.post(drupal_endpoint, data=drupal_payload, headers=drupal_headers, auth=('api_user','PASSWORD'))\n",
    "\n",
    "    \n",
    "#Check was a success \n",
    "if r.status_code == 201:\n",
    "    print(\"Success\")\n",
    "else:\n",
    "    print(\"Fail\")\n",
    "    print(r.status_code)\n",
    "    print(r.text)  \n",
    "    "
   ]
  },
  {
   "cell_type": "code",
   "execution_count": null,
   "metadata": {},
   "outputs": [],
   "source": []
  },
  {
   "cell_type": "code",
   "execution_count": null,
   "metadata": {},
   "outputs": [],
   "source": []
  }
 ],
 "metadata": {
  "kernelspec": {
   "display_name": "Python 3",
   "language": "python",
   "name": "python3"
  },
  "language_info": {
   "codemirror_mode": {
    "name": "ipython",
    "version": 3
   },
   "file_extension": ".py",
   "mimetype": "text/x-python",
   "name": "python",
   "nbconvert_exporter": "python",
   "pygments_lexer": "ipython3",
   "version": "3.7.2"
  }
 },
 "nbformat": 4,
 "nbformat_minor": 2
}
